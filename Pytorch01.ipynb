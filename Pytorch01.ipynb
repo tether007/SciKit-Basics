{
  "nbformat": 4,
  "nbformat_minor": 0,
  "metadata": {
    "colab": {
      "provenance": [],
      "authorship_tag": "ABX9TyPFFWMZLpBrcD/2ahDjSLQW",
      "include_colab_link": true
    },
    "kernelspec": {
      "name": "python3",
      "display_name": "Python 3"
    },
    "language_info": {
      "name": "python"
    }
  },
  "cells": [
    {
      "cell_type": "markdown",
      "metadata": {
        "id": "view-in-github",
        "colab_type": "text"
      },
      "source": [
        "<a href=\"https://colab.research.google.com/github/tether007/SciKit-Basics/blob/main/Pytorch01.ipynb\" target=\"_parent\"><img src=\"https://colab.research.google.com/assets/colab-badge.svg\" alt=\"Open In Colab\"/></a>"
      ]
    },
    {
      "cell_type": "markdown",
      "source": [
        "##**Fundamentals of pytorch**\n",
        "ref notebook=\"https://www.learnpytorch.io/00_pytorch_fundamentals/\""
      ],
      "metadata": {
        "id": "1U7rPdevV12X"
      }
    },
    {
      "cell_type": "code",
      "execution_count": 1,
      "metadata": {
        "colab": {
          "base_uri": "https://localhost:8080/"
        },
        "id": "ZlY6antFUj0N",
        "outputId": "7f194e29-f30b-47cf-d7f6-a2801f57610a"
      },
      "outputs": [
        {
          "output_type": "stream",
          "name": "stdout",
          "text": [
            "2.5.0+cu121\n"
          ]
        }
      ],
      "source": [
        "import torch\n",
        "import pandas as py\n",
        "import matplotlib as mp\n",
        "import numpy as np\n",
        "print(torch.__version__)"
      ]
    },
    {
      "cell_type": "code",
      "source": [
        "#scalar\n",
        "scalar = torch.tensor(7)\n",
        "scalar"
      ],
      "metadata": {
        "colab": {
          "base_uri": "https://localhost:8080/"
        },
        "id": "x0W2Q0oKVLtg",
        "outputId": "dfac1545-a1be-4fcc-e5ea-5260dafad53b"
      },
      "execution_count": 2,
      "outputs": [
        {
          "output_type": "execute_result",
          "data": {
            "text/plain": [
              "tensor(7)"
            ]
          },
          "metadata": {},
          "execution_count": 2
        }
      ]
    },
    {
      "cell_type": "code",
      "source": [
        "#getting tensor as int\n",
        "scalar.item()"
      ],
      "metadata": {
        "colab": {
          "base_uri": "https://localhost:8080/"
        },
        "id": "G_yroBGFVoNX",
        "outputId": "7958d217-004e-463c-d016-f29cf989ff6c"
      },
      "execution_count": 3,
      "outputs": [
        {
          "output_type": "execute_result",
          "data": {
            "text/plain": [
              "7"
            ]
          },
          "metadata": {},
          "execution_count": 3
        }
      ]
    },
    {
      "cell_type": "code",
      "source": [
        "#Vector\n",
        "vector=torch.tensor([9,6])\n",
        "vector"
      ],
      "metadata": {
        "colab": {
          "base_uri": "https://localhost:8080/"
        },
        "id": "bvjYLvUTYKvk",
        "outputId": "f60d226f-be18-423b-f9ad-4e91139f9d1a"
      },
      "execution_count": 5,
      "outputs": [
        {
          "output_type": "execute_result",
          "data": {
            "text/plain": [
              "tensor([9, 6])"
            ]
          },
          "metadata": {},
          "execution_count": 5
        }
      ]
    },
    {
      "cell_type": "code",
      "source": [
        "torch.Size([2])"
      ],
      "metadata": {
        "colab": {
          "base_uri": "https://localhost:8080/"
        },
        "id": "yJFo3MRwYdW1",
        "outputId": "1474ae69-a11b-4c7b-8eb3-3bd1cf678588"
      },
      "execution_count": 6,
      "outputs": [
        {
          "output_type": "execute_result",
          "data": {
            "text/plain": [
              "torch.Size([2])"
            ]
          },
          "metadata": {},
          "execution_count": 6
        }
      ]
    },
    {
      "cell_type": "code",
      "source": [
        "#Matrix\n",
        "MATRIX=torch.tensor([[2,3],\n",
        "                    [3,4]])\n",
        "MATRIX\n",
        "MATRIX.ndim"
      ],
      "metadata": {
        "colab": {
          "base_uri": "https://localhost:8080/"
        },
        "id": "mM32o6r5Ym_h",
        "outputId": "73d0c9df-b9a5-4188-cd5e-27b5082a144f"
      },
      "execution_count": 38,
      "outputs": [
        {
          "output_type": "execute_result",
          "data": {
            "text/plain": [
              "2"
            ]
          },
          "metadata": {},
          "execution_count": 38
        }
      ]
    },
    {
      "cell_type": "code",
      "source": [
        "MATRIX[0]"
      ],
      "metadata": {
        "colab": {
          "base_uri": "https://localhost:8080/"
        },
        "id": "Hr_uzidOYq5I",
        "outputId": "18a05665-0449-427d-dd0c-744ed8860831"
      },
      "execution_count": 13,
      "outputs": [
        {
          "output_type": "execute_result",
          "data": {
            "text/plain": [
              "tensor([2, 3])"
            ]
          },
          "metadata": {},
          "execution_count": 13
        }
      ]
    },
    {
      "cell_type": "code",
      "source": [
        "MATRIX.shape"
      ],
      "metadata": {
        "colab": {
          "base_uri": "https://localhost:8080/"
        },
        "id": "fHa4tTcCZP0X",
        "outputId": "70ed0a2c-2211-4e2d-f6b9-b1b53f632e6d"
      },
      "execution_count": 15,
      "outputs": [
        {
          "output_type": "execute_result",
          "data": {
            "text/plain": [
              "torch.Size([2, 2])"
            ]
          },
          "metadata": {},
          "execution_count": 15
        }
      ]
    },
    {
      "cell_type": "code",
      "source": [
        "#TENSOR\n",
        "TENSOR = torch.tensor([[1,2,3],[4,3,5]])\n",
        "TENSOR"
      ],
      "metadata": {
        "colab": {
          "base_uri": "https://localhost:8080/"
        },
        "id": "pFOyXcJ_ZTRN",
        "outputId": "1f189a12-9412-493c-dacb-7c5edcc472c1"
      },
      "execution_count": 42,
      "outputs": [
        {
          "output_type": "execute_result",
          "data": {
            "text/plain": [
              "tensor([[1, 2, 3],\n",
              "        [4, 3, 5]])"
            ]
          },
          "metadata": {},
          "execution_count": 42
        }
      ]
    },
    {
      "cell_type": "code",
      "source": [
        "TENSOR.ndim"
      ],
      "metadata": {
        "colab": {
          "base_uri": "https://localhost:8080/"
        },
        "id": "0Ehs2gmoZabC",
        "outputId": "e8a949ed-8621-4a7a-8814-039476136211"
      },
      "execution_count": 43,
      "outputs": [
        {
          "output_type": "execute_result",
          "data": {
            "text/plain": [
              "2"
            ]
          },
          "metadata": {},
          "execution_count": 43
        }
      ]
    },
    {
      "cell_type": "code",
      "source": [
        "TENSOR1=torch.tensor([[[1,3],[2,3]]])\n",
        "TENSOR1.shape"
      ],
      "metadata": {
        "colab": {
          "base_uri": "https://localhost:8080/"
        },
        "id": "1kLi_VaiaLfD",
        "outputId": "3a6fd86e-9857-488a-f7f4-6dc1b7757409"
      },
      "execution_count": 30,
      "outputs": [
        {
          "output_type": "execute_result",
          "data": {
            "text/plain": [
              "torch.Size([1, 2, 2])"
            ]
          },
          "metadata": {},
          "execution_count": 30
        }
      ]
    },
    {
      "cell_type": "markdown",
      "source": [
        "### **RANDOM TENSORS**\n",
        "Random tensors are imp as NN(neural networs)genarally use these and keep on iterate the numbers to make a representation\n",
        "TORCH random-->\"https://pytorch.org/docs/stable/generated/torch.rand.html\""
      ],
      "metadata": {
        "id": "ZRJ-Mu8JbZ9u"
      }
    },
    {
      "cell_type": "code",
      "source": [
        "random_tensor=torch.rand(3,4)\n",
        "random_tensor\n"
      ],
      "metadata": {
        "colab": {
          "base_uri": "https://localhost:8080/"
        },
        "id": "VlQbo9spbyTl",
        "outputId": "05f3a798-b56c-41a5-939b-badc1b7fce20"
      },
      "execution_count": 37,
      "outputs": [
        {
          "output_type": "execute_result",
          "data": {
            "text/plain": [
              "tensor([[0.1942, 0.8367, 0.2933, 0.9162],\n",
              "        [0.4689, 0.5499, 0.1992, 0.5727],\n",
              "        [0.6004, 0.6309, 0.8463, 0.9278]])"
            ]
          },
          "metadata": {},
          "execution_count": 37
        }
      ]
    },
    {
      "cell_type": "code",
      "source": [
        "#Create a random tensor similar shape to an image tensor\n",
        "rand_image_size_tensor=torch.rand(size=(3,244,244))#size or doesnt matter on n the same\n",
        "#here 3 is no:of color channels ie R G B and 244,244 are Height n bredth\n",
        "rand_image_size_tensor"
      ],
      "metadata": {
        "id": "D-GfWCzQebVA"
      },
      "execution_count": null,
      "outputs": []
    },
    {
      "cell_type": "markdown",
      "source": [
        "### **ZEROS AND ONES**"
      ],
      "metadata": {
        "id": "Y_xcnEQfoKNO"
      }
    },
    {
      "cell_type": "code",
      "source": [
        "zeros=torch.zeros(size=(3,4))"
      ],
      "metadata": {
        "id": "sCoCBYmWnz2h"
      },
      "execution_count": 46,
      "outputs": []
    },
    {
      "cell_type": "code",
      "source": [
        "ones=torch.ones(size=(3,4))"
      ],
      "metadata": {
        "id": "eVo7-ofto1Dx"
      },
      "execution_count": 47,
      "outputs": []
    },
    {
      "cell_type": "code",
      "source": [
        "zeros*ones"
      ],
      "metadata": {
        "colab": {
          "base_uri": "https://localhost:8080/"
        },
        "id": "7ydkTnavo_rr",
        "outputId": "e27b5c45-bdfa-481f-c581-e50a5b274bb8"
      },
      "execution_count": 51,
      "outputs": [
        {
          "output_type": "execute_result",
          "data": {
            "text/plain": [
              "tensor([[0., 0., 0., 0.],\n",
              "        [0., 0., 0., 0.],\n",
              "        [0., 0., 0., 0.]])"
            ]
          },
          "metadata": {},
          "execution_count": 51
        }
      ]
    },
    {
      "cell_type": "code",
      "source": [
        "ones.dtype#default type of tensors are float"
      ],
      "metadata": {
        "colab": {
          "base_uri": "https://localhost:8080/"
        },
        "id": "r1l5PqnWpB8S",
        "outputId": "6eea993c-bcb1-4350-abd8-395548ee5827"
      },
      "execution_count": 53,
      "outputs": [
        {
          "output_type": "execute_result",
          "data": {
            "text/plain": [
              "torch.float32"
            ]
          },
          "metadata": {},
          "execution_count": 53
        }
      ]
    },
    {
      "cell_type": "markdown",
      "source": [
        "### CREATING A RANGE OF TENSORS n TENSORS-LIKE"
      ],
      "metadata": {
        "id": "DwHsOtvCpMpH"
      }
    },
    {
      "cell_type": "code",
      "source": [
        "one_to_10=torch.arange(0,10)\n",
        "one_to_10\n",
        "one_t0_1000=torch.arange(1,1000,19)#(start,end,step)\n",
        "one_t0_1000"
      ],
      "metadata": {
        "colab": {
          "base_uri": "https://localhost:8080/"
        },
        "id": "386JI2Ugpg9Y",
        "outputId": "19e0b42a-896e-4dfb-d7cb-ed105aae0c81"
      },
      "execution_count": 62,
      "outputs": [
        {
          "output_type": "execute_result",
          "data": {
            "text/plain": [
              "tensor([  1,  20,  39,  58,  77,  96, 115, 134, 153, 172, 191, 210, 229, 248,\n",
              "        267, 286, 305, 324, 343, 362, 381, 400, 419, 438, 457, 476, 495, 514,\n",
              "        533, 552, 571, 590, 609, 628, 647, 666, 685, 704, 723, 742, 761, 780,\n",
              "        799, 818, 837, 856, 875, 894, 913, 932, 951, 970, 989])"
            ]
          },
          "metadata": {},
          "execution_count": 62
        }
      ]
    },
    {
      "cell_type": "code",
      "source": [
        "# creating tensors like\n",
        "ten_zeros = torch.ones_like(one_to_10)\n",
        "ten_zeros"
      ],
      "metadata": {
        "colab": {
          "base_uri": "https://localhost:8080/"
        },
        "id": "QZk56Q1Lp25i",
        "outputId": "f6675181-36fd-4694-c608-99d8e83a0e43"
      },
      "execution_count": 66,
      "outputs": [
        {
          "output_type": "execute_result",
          "data": {
            "text/plain": [
              "tensor([1, 1, 1, 1, 1, 1, 1, 1, 1, 1])"
            ]
          },
          "metadata": {},
          "execution_count": 66
        }
      ]
    },
    {
      "cell_type": "markdown",
      "source": [
        "### TENSOR DATATYPES"
      ],
      "metadata": {
        "id": "FZ3TgyoSqw_3"
      }
    },
    {
      "cell_type": "code",
      "source": [
        "#float 32 tensor\n",
        "f_32_tensor=torch.tensor([[[1,3,4],[2,3,4]]],dtype=None,#tensor's datatype\n",
        "                         device=None,#d\n",
        "                         requires_grad=False)"
      ],
      "metadata": {
        "id": "8-e_qNVEri9V"
      },
      "execution_count": 71,
      "outputs": []
    },
    {
      "cell_type": "code",
      "source": [
        "f_32_tensor"
      ],
      "metadata": {
        "colab": {
          "base_uri": "https://localhost:8080/"
        },
        "id": "PnG6LA12rvdB",
        "outputId": "b2ded43d-d3ab-4f4e-aff8-9184e2cb5c9b"
      },
      "execution_count": 73,
      "outputs": [
        {
          "output_type": "execute_result",
          "data": {
            "text/plain": [
              "tensor([[[1, 3, 4],\n",
              "         [2, 3, 4]]])"
            ]
          },
          "metadata": {},
          "execution_count": 73
        }
      ]
    },
    {
      "cell_type": "code",
      "source": [],
      "metadata": {
        "id": "OFMxk1TbsF84"
      },
      "execution_count": null,
      "outputs": []
    }
  ]
}